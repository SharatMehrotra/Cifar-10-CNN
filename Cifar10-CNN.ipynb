{
 "cells": [
  {
   "cell_type": "code",
   "execution_count": 37,
   "id": "structural-diving",
   "metadata": {},
   "outputs": [],
   "source": [
    "import torch\n",
    "import torchvision\n",
    "import torch.nn as nn\n",
    "import torchvision.transforms as transform\n",
    "from matplotlib import pyplot\n",
    "import numpy as np\n",
    "import cv2\n",
    "import scipy.io as sci\n",
    "from sklearn.decomposition import PCA\n",
    "import matplotlib.pyplot as plt\n",
    "from keras.models import Sequential\n",
    "from keras.layers import Dense, Conv1D, Flatten, MaxPooling2D, Conv2D, MaxPool1D, Dropout\n",
    "from keras.layers.normalization import BatchNormalization\n",
    "from keras.optimizers import SGD\n",
    "from keras.utils import to_categorical\n",
    "import tensorflow as tf\n",
    "from tensorflow.keras import datasets, layers, models"
   ]
  },
  {
   "cell_type": "code",
   "execution_count": 38,
   "id": "controversial-liverpool",
   "metadata": {},
   "outputs": [],
   "source": [
    "(train_images,train_labels),(test_images,test_labels) = datasets.cifar10.load_data()"
   ]
  },
  {
   "cell_type": "code",
   "execution_count": 39,
   "id": "positive-sudan",
   "metadata": {},
   "outputs": [
    {
     "data": {
      "text/plain": [
       "(10000, 32, 32, 3)"
      ]
     },
     "execution_count": 39,
     "metadata": {},
     "output_type": "execute_result"
    }
   ],
   "source": [
    "test_images.shape"
   ]
  },
  {
   "cell_type": "code",
   "execution_count": 40,
   "id": "complex-luxury",
   "metadata": {},
   "outputs": [],
   "source": [
    "train_images, test_images = train_images / 255.0, test_images / 255.0"
   ]
  },
  {
   "cell_type": "code",
   "execution_count": 41,
   "id": "sunrise-lafayette",
   "metadata": {},
   "outputs": [],
   "source": [
    "model=Sequential()\n",
    "model.add(Conv2D(32, (3, 3), activation='relu', kernel_initializer='he_uniform', padding='same', input_shape=(32, 32, 3)))\n",
    "model.add(BatchNormalization())\n",
    "model.add(Conv2D(32, (3, 3), activation='relu', kernel_initializer='he_uniform', padding='same'))\n",
    "model.add(BatchNormalization())\n",
    "model.add(MaxPooling2D((2, 2)))\n",
    "model.add(Dropout(0.2))\n",
    "model.add(Conv2D(64, (3, 3), activation='relu', kernel_initializer='he_uniform', padding='same'))\n",
    "model.add(BatchNormalization())\n",
    "model.add(Conv2D(64, (3, 3), activation='relu', kernel_initializer='he_uniform', padding='same'))\n",
    "model.add(BatchNormalization())\n",
    "model.add(MaxPooling2D((2, 2)))\n",
    "model.add(Dropout(0.3))\n",
    "model.add(Conv2D(128, (3, 3), activation='relu', kernel_initializer='he_uniform', padding='same'))\n",
    "model.add(BatchNormalization())\n",
    "model.add(Conv2D(128, (3, 3), activation='relu', kernel_initializer='he_uniform', padding='same'))\n",
    "model.add(BatchNormalization())\n",
    "model.add(MaxPooling2D((2, 2)))\n",
    "model.add(Dropout(0.5))\n",
    "model.add(Flatten())\n",
    "model.add(Dense(128, activation='relu', kernel_initializer='he_uniform'))\n",
    "model.add(BatchNormalization())\n",
    "model.add(Dropout(0.3))\n",
    "model.add(Dense(10, activation='softmax'))"
   ]
  },
  {
   "cell_type": "code",
   "execution_count": 42,
   "id": "sapphire-repeat",
   "metadata": {},
   "outputs": [
    {
     "name": "stdout",
     "output_type": "stream",
     "text": [
      "Model: \"sequential_3\"\n",
      "_________________________________________________________________\n",
      "Layer (type)                 Output Shape              Param #   \n",
      "=================================================================\n",
      "conv2d_13 (Conv2D)           (None, 32, 32, 32)        896       \n",
      "_________________________________________________________________\n",
      "batch_normalization_15 (Batc (None, 32, 32, 32)        128       \n",
      "_________________________________________________________________\n",
      "conv2d_14 (Conv2D)           (None, 32, 32, 32)        9248      \n",
      "_________________________________________________________________\n",
      "batch_normalization_16 (Batc (None, 32, 32, 32)        128       \n",
      "_________________________________________________________________\n",
      "max_pooling2d_6 (MaxPooling2 (None, 16, 16, 32)        0         \n",
      "_________________________________________________________________\n",
      "dropout_8 (Dropout)          (None, 16, 16, 32)        0         \n",
      "_________________________________________________________________\n",
      "conv2d_15 (Conv2D)           (None, 16, 16, 64)        18496     \n",
      "_________________________________________________________________\n",
      "batch_normalization_17 (Batc (None, 16, 16, 64)        256       \n",
      "_________________________________________________________________\n",
      "conv2d_16 (Conv2D)           (None, 16, 16, 64)        36928     \n",
      "_________________________________________________________________\n",
      "batch_normalization_18 (Batc (None, 16, 16, 64)        256       \n",
      "_________________________________________________________________\n",
      "max_pooling2d_7 (MaxPooling2 (None, 8, 8, 64)          0         \n",
      "_________________________________________________________________\n",
      "dropout_9 (Dropout)          (None, 8, 8, 64)          0         \n",
      "_________________________________________________________________\n",
      "conv2d_17 (Conv2D)           (None, 8, 8, 128)         73856     \n",
      "_________________________________________________________________\n",
      "batch_normalization_19 (Batc (None, 8, 8, 128)         512       \n",
      "_________________________________________________________________\n",
      "conv2d_18 (Conv2D)           (None, 8, 8, 128)         147584    \n",
      "_________________________________________________________________\n",
      "batch_normalization_20 (Batc (None, 8, 8, 128)         512       \n",
      "_________________________________________________________________\n",
      "max_pooling2d_8 (MaxPooling2 (None, 4, 4, 128)         0         \n",
      "_________________________________________________________________\n",
      "dropout_10 (Dropout)         (None, 4, 4, 128)         0         \n",
      "_________________________________________________________________\n",
      "flatten_2 (Flatten)          (None, 2048)              0         \n",
      "_________________________________________________________________\n",
      "dense_4 (Dense)              (None, 128)               262272    \n",
      "_________________________________________________________________\n",
      "batch_normalization_21 (Batc (None, 128)               512       \n",
      "_________________________________________________________________\n",
      "dropout_11 (Dropout)         (None, 128)               0         \n",
      "_________________________________________________________________\n",
      "dense_5 (Dense)              (None, 10)                1290      \n",
      "=================================================================\n",
      "Total params: 552,874\n",
      "Trainable params: 551,722\n",
      "Non-trainable params: 1,152\n",
      "_________________________________________________________________\n"
     ]
    }
   ],
   "source": [
    "model.summary()"
   ]
  },
  {
   "cell_type": "code",
   "execution_count": null,
   "id": "selective-bobby",
   "metadata": {},
   "outputs": [],
   "source": []
  },
  {
   "cell_type": "code",
   "execution_count": 43,
   "id": "overhead-trademark",
   "metadata": {},
   "outputs": [
    {
     "name": "stdout",
     "output_type": "stream",
     "text": [
      "Epoch 1/15\n",
      "782/782 [==============================] - 287s 361ms/step - loss: 1.8821 - accuracy: 0.3615 - val_loss: 1.1748 - val_accuracy: 0.5801\n",
      "Epoch 2/15\n",
      "782/782 [==============================] - 296s 379ms/step - loss: 1.1559 - accuracy: 0.5865 - val_loss: 0.9376 - val_accuracy: 0.6676\n",
      "Epoch 3/15\n",
      "782/782 [==============================] - 305s 391ms/step - loss: 0.9322 - accuracy: 0.6730 - val_loss: 0.8643 - val_accuracy: 0.6967\n",
      "Epoch 4/15\n",
      "782/782 [==============================] - 308s 394ms/step - loss: 0.7962 - accuracy: 0.7227 - val_loss: 0.7021 - val_accuracy: 0.7563\n",
      "Epoch 5/15\n",
      "782/782 [==============================] - 304s 389ms/step - loss: 0.7265 - accuracy: 0.7486 - val_loss: 0.6968 - val_accuracy: 0.7615\n",
      "Epoch 6/15\n",
      "782/782 [==============================] - 306s 391ms/step - loss: 0.6658 - accuracy: 0.7678 - val_loss: 0.6625 - val_accuracy: 0.7743\n",
      "Epoch 7/15\n",
      "782/782 [==============================] - 306s 391ms/step - loss: 0.6073 - accuracy: 0.7879 - val_loss: 0.6190 - val_accuracy: 0.7867\n",
      "Epoch 8/15\n",
      "782/782 [==============================] - 305s 390ms/step - loss: 0.5650 - accuracy: 0.8041 - val_loss: 0.5734 - val_accuracy: 0.8001\n",
      "Epoch 9/15\n",
      "782/782 [==============================] - 306s 391ms/step - loss: 0.5310 - accuracy: 0.8162 - val_loss: 0.5237 - val_accuracy: 0.8169\n",
      "Epoch 10/15\n",
      "782/782 [==============================] - 307s 393ms/step - loss: 0.5083 - accuracy: 0.8239 - val_loss: 0.5290 - val_accuracy: 0.8185\n",
      "Epoch 11/15\n",
      "782/782 [==============================] - 308s 394ms/step - loss: 0.4816 - accuracy: 0.8316 - val_loss: 0.4925 - val_accuracy: 0.8290\n",
      "Epoch 12/15\n",
      "782/782 [==============================] - 307s 393ms/step - loss: 0.4503 - accuracy: 0.8447 - val_loss: 0.4720 - val_accuracy: 0.8385\n",
      "Epoch 13/15\n",
      "782/782 [==============================] - 302s 386ms/step - loss: 0.4349 - accuracy: 0.8493 - val_loss: 0.4579 - val_accuracy: 0.8446\n",
      "Epoch 14/15\n",
      "782/782 [==============================] - 300s 384ms/step - loss: 0.4201 - accuracy: 0.8542 - val_loss: 0.5276 - val_accuracy: 0.8199\n",
      "Epoch 15/15\n",
      "782/782 [==============================] - 301s 385ms/step - loss: 0.4052 - accuracy: 0.8591 - val_loss: 0.4798 - val_accuracy: 0.8383\n"
     ]
    }
   ],
   "source": [
    "model.compile(optimizer='adam',\n",
    "              loss=tf.keras.losses.SparseCategoricalCrossentropy(from_logits=True),\n",
    "              metrics=['accuracy'])\n",
    "history = model.fit(train_images, train_labels, epochs=15,batch_size=64, \n",
    "                    validation_data=(test_images, test_labels))"
   ]
  },
  {
   "cell_type": "code",
   "execution_count": 44,
   "id": "faced-sigma",
   "metadata": {},
   "outputs": [
    {
     "name": "stdout",
     "output_type": "stream",
     "text": [
      "313/313 [==============================] - 14s 44ms/step - loss: 0.4798 - accuracy: 0.8383\n"
     ]
    }
   ],
   "source": [
    "test_loss, test_acc = model.evaluate(test_images,  test_labels, verbose=1)"
   ]
  },
  {
   "cell_type": "code",
   "execution_count": 45,
   "id": "satisfied-syndrome",
   "metadata": {},
   "outputs": [
    {
     "data": {
      "image/png": "[encoded data removed]",
      "text/plain": [
       "<Figure size 432x288 with 1 Axes>"
      ]
     },
     "metadata": {
      "needs_background": "light"
     },
     "output_type": "display_data"
    },
    {
     "data": {
      "text/plain": [
       "<Figure size 720x720 with 0 Axes>"
      ]
     },
     "metadata": {},
     "output_type": "display_data"
    },
    {
     "data": {
      "image/png": "[encoded data removed]",
      "text/plain": [
       "<Figure size 432x288 with 1 Axes>"
      ]
     },
     "metadata": {
      "needs_background": "light"
     },
     "output_type": "display_data"
    },
    {
     "data": {
      "text/plain": [
       "<Figure size 720x720 with 0 Axes>"
      ]
     },
     "metadata": {},
     "output_type": "display_data"
    }
   ],
   "source": [
    "pyplot.title('Cross Entropy Loss')\n",
    "pyplot.plot(history.history['loss'], color='blue', label='train')\n",
    "pyplot.plot(history.history['val_loss'], color='orange', label='test')\n",
    "pyplot.legend()\n",
    "g = plt.figure()\n",
    "g.set_figwidth(10)\n",
    "g.set_figheight(10)\n",
    "pyplot.show()\n",
    "# plot accuracy\n",
    "pyplot.title('Classification Accuracy')\n",
    "pyplot.plot(history.history['accuracy'], color='blue', label='train')\n",
    "pyplot.plot(history.history['val_accuracy'], color='orange', label='test')\n",
    "pyplot.legend()\n",
    "f = plt.figure()\n",
    "f.set_figwidth(10)\n",
    "f.set_figheight(10)\n",
    "# save plot to file\n",
    "pyplot.show()\n",
    "pyplot.close()"
   ]
  },
  {
   "cell_type": "code",
   "execution_count": null,
   "id": "tamil-lloyd",
   "metadata": {},
   "outputs": [],
   "source": []
  }
 ],
 "metadata": {
  "kernelspec": {
   "display_name": "Python 3",
   "language": "python",
   "name": "python3"
  },
  "language_info": {
   "codemirror_mode": {
    "name": "ipython",
    "version": 3
   },
   "file_extension": ".py",
   "mimetype": "text/x-python",
   "name": "python",
   "nbconvert_exporter": "python",
   "pygments_lexer": "ipython3",
   "version": "3.7.6"
  }
 },
 "nbformat": 4,
 "nbformat_minor": 5
}
