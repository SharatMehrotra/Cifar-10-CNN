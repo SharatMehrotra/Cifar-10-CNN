{
 "cells": [
  {
   "cell_type": "code",
   "execution_count": 1,
   "id": "structural-diving",
   "metadata": {},
   "outputs": [],
   "source": [
    "import torch\n",
    "import torchvision\n",
    "import torch.nn as nn\n",
    "import torchvision.transforms as transform\n",
    "from matplotlib import pyplot\n",
    "import numpy as np\n",
    "import cv2\n",
    "import scipy.io as sci\n",
    "from sklearn.decomposition import PCA\n",
    "import matplotlib.pyplot as plt\n",
    "from keras.models import Sequential\n",
    "from keras.layers import Dense, Conv1D, Flatten, MaxPooling2D, Conv2D, MaxPool1D, Dropout\n",
    "from keras.layers.normalization import BatchNormalization\n",
    "from keras.optimizers import SGD\n",
    "from keras.utils import to_categorical\n",
    "import tensorflow as tf\n",
    "from tensorflow.keras import datasets, layers, models"
   ]
  },
  {
   "cell_type": "code",
   "execution_count": 2,
   "id": "controversial-liverpool",
   "metadata": {},
   "outputs": [],
   "source": [
    "(train_images,train_labels),(test_images,test_labels) = datasets.cifar10.load_data()"
   ]
  },
  {
   "cell_type": "code",
   "execution_count": 3,
   "id": "positive-sudan",
   "metadata": {},
   "outputs": [
    {
     "data": {
      "text/plain": [
       "(10000, 32, 32, 3)"
      ]
     },
     "execution_count": 3,
     "metadata": {},
     "output_type": "execute_result"
    }
   ],
   "source": [
    "test_images.shape"
   ]
  },
  {
   "cell_type": "code",
   "execution_count": 4,
   "id": "complex-luxury",
   "metadata": {},
   "outputs": [],
   "source": [
    "train_images, test_images = train_images / 255.0, test_images / 255.0"
   ]
  },
  {
   "cell_type": "code",
   "execution_count": 5,
   "id": "sunrise-lafayette",
   "metadata": {},
   "outputs": [],
   "source": [
    "model=Sequential()\n",
    "model.add(Conv2D(32, (3, 3), activation='relu', kernel_initializer='he_uniform', padding='same', input_shape=(32, 32, 3)))\n",
    "model.add(BatchNormalization())\n",
    "model.add(Conv2D(32, (3, 3), activation='relu', kernel_initializer='he_uniform', padding='same'))\n",
    "model.add(BatchNormalization())\n",
    "model.add(MaxPooling2D((2, 2)))\n",
    "model.add(Dropout(0.2))\n",
    "model.add(Conv2D(64, (3, 3), activation='relu', kernel_initializer='he_uniform', padding='same'))\n",
    "model.add(BatchNormalization())\n",
    "model.add(Conv2D(64, (3, 3), activation='relu', kernel_initializer='he_uniform', padding='same'))\n",
    "model.add(BatchNormalization())\n",
    "model.add(MaxPooling2D((2, 2)))\n",
    "model.add(Dropout(0.3))\n",
    "model.add(Conv2D(128, (3, 3), activation='relu', kernel_initializer='he_uniform', padding='same'))\n",
    "model.add(BatchNormalization())\n",
    "model.add(Conv2D(128, (3, 3), activation='relu', kernel_initializer='he_uniform', padding='same'))\n",
    "model.add(BatchNormalization())\n",
    "model.add(MaxPooling2D((2, 2)))\n",
    "model.add(Dropout(0.5))\n",
    "model.add(Flatten())\n",
    "model.add(Dense(128, activation='relu', kernel_initializer='he_uniform'))\n",
    "model.add(BatchNormalization())\n",
    "model.add(Dropout(0.3))\n",
    "model.add(Dense(10, activation='softmax'))"
   ]
  },
  {
   "cell_type": "code",
   "execution_count": 6,
   "id": "sapphire-repeat",
   "metadata": {},
   "outputs": [
    {
     "name": "stdout",
     "output_type": "stream",
     "text": [
      "Model: \"sequential\"\n",
      "_________________________________________________________________\n",
      "Layer (type)                 Output Shape              Param #   \n",
      "=================================================================\n",
      "conv2d (Conv2D)              (None, 32, 32, 32)        896       \n",
      "_________________________________________________________________\n",
      "batch_normalization (BatchNo (None, 32, 32, 32)        128       \n",
      "_________________________________________________________________\n",
      "conv2d_1 (Conv2D)            (None, 32, 32, 32)        9248      \n",
      "_________________________________________________________________\n",
      "batch_normalization_1 (Batch (None, 32, 32, 32)        128       \n",
      "_________________________________________________________________\n",
      "max_pooling2d (MaxPooling2D) (None, 16, 16, 32)        0         \n",
      "_________________________________________________________________\n",
      "dropout (Dropout)            (None, 16, 16, 32)        0         \n",
      "_________________________________________________________________\n",
      "conv2d_2 (Conv2D)            (None, 16, 16, 64)        18496     \n",
      "_________________________________________________________________\n",
      "batch_normalization_2 (Batch (None, 16, 16, 64)        256       \n",
      "_________________________________________________________________\n",
      "conv2d_3 (Conv2D)            (None, 16, 16, 64)        36928     \n",
      "_________________________________________________________________\n",
      "batch_normalization_3 (Batch (None, 16, 16, 64)        256       \n",
      "_________________________________________________________________\n",
      "max_pooling2d_1 (MaxPooling2 (None, 8, 8, 64)          0         \n",
      "_________________________________________________________________\n",
      "dropout_1 (Dropout)          (None, 8, 8, 64)          0         \n",
      "_________________________________________________________________\n",
      "conv2d_4 (Conv2D)            (None, 8, 8, 128)         73856     \n",
      "_________________________________________________________________\n",
      "batch_normalization_4 (Batch (None, 8, 8, 128)         512       \n",
      "_________________________________________________________________\n",
      "conv2d_5 (Conv2D)            (None, 8, 8, 128)         147584    \n",
      "_________________________________________________________________\n",
      "batch_normalization_5 (Batch (None, 8, 8, 128)         512       \n",
      "_________________________________________________________________\n",
      "max_pooling2d_2 (MaxPooling2 (None, 4, 4, 128)         0         \n",
      "_________________________________________________________________\n",
      "dropout_2 (Dropout)          (None, 4, 4, 128)         0         \n",
      "_________________________________________________________________\n",
      "flatten (Flatten)            (None, 2048)              0         \n",
      "_________________________________________________________________\n",
      "dense (Dense)                (None, 128)               262272    \n",
      "_________________________________________________________________\n",
      "batch_normalization_6 (Batch (None, 128)               512       \n",
      "_________________________________________________________________\n",
      "dropout_3 (Dropout)          (None, 128)               0         \n",
      "_________________________________________________________________\n",
      "dense_1 (Dense)              (None, 10)                1290      \n",
      "=================================================================\n",
      "Total params: 552,874\n",
      "Trainable params: 551,722\n",
      "Non-trainable params: 1,152\n",
      "_________________________________________________________________\n"
     ]
    }
   ],
   "source": [
    "model.summary()"
   ]
  },
  {
   "cell_type": "code",
   "execution_count": null,
   "id": "selective-bobby",
   "metadata": {},
   "outputs": [],
   "source": []
  },
  {
   "cell_type": "code",
   "execution_count": 7,
   "id": "overhead-trademark",
   "metadata": {},
   "outputs": [
    {
     "name": "stdout",
     "output_type": "stream",
     "text": [
      "Epoch 1/30\n",
      "782/782 [==============================] - 277s 351ms/step - loss: 1.8977 - accuracy: 0.3645 - val_loss: 1.1974 - val_accuracy: 0.5612\n",
      "Epoch 2/30\n",
      "782/782 [==============================] - 288s 368ms/step - loss: 1.1154 - accuracy: 0.6020 - val_loss: 0.8834 - val_accuracy: 0.6831\n",
      "Epoch 3/30\n",
      "782/782 [==============================] - 289s 369ms/step - loss: 0.9167 - accuracy: 0.6757 - val_loss: 0.7354 - val_accuracy: 0.7420\n",
      "Epoch 4/30\n",
      "782/782 [==============================] - 290s 371ms/step - loss: 0.7940 - accuracy: 0.7181 - val_loss: 0.6967 - val_accuracy: 0.7592\n",
      "Epoch 5/30\n",
      "782/782 [==============================] - 290s 371ms/step - loss: 0.7132 - accuracy: 0.7529 - val_loss: 0.6291 - val_accuracy: 0.7813\n",
      "Epoch 6/30\n",
      "782/782 [==============================] - 291s 372ms/step - loss: 0.6496 - accuracy: 0.7722 - val_loss: 0.6252 - val_accuracy: 0.7834\n",
      "Epoch 7/30\n",
      "782/782 [==============================] - 292s 373ms/step - loss: 0.6135 - accuracy: 0.7886 - val_loss: 0.5605 - val_accuracy: 0.8088\n",
      "Epoch 8/30\n",
      "782/782 [==============================] - 291s 373ms/step - loss: 0.5615 - accuracy: 0.8085 - val_loss: 0.5691 - val_accuracy: 0.8014\n",
      "Epoch 9/30\n",
      "782/782 [==============================] - 292s 373ms/step - loss: 0.5415 - accuracy: 0.8093 - val_loss: 0.5713 - val_accuracy: 0.8038\n",
      "Epoch 10/30\n",
      "782/782 [==============================] - 291s 373ms/step - loss: 0.5049 - accuracy: 0.8239 - val_loss: 0.5388 - val_accuracy: 0.8158\n",
      "Epoch 11/30\n",
      "782/782 [==============================] - 291s 373ms/step - loss: 0.4810 - accuracy: 0.8331 - val_loss: 0.5064 - val_accuracy: 0.8255\n",
      "Epoch 12/30\n",
      "782/782 [==============================] - 291s 372ms/step - loss: 0.4549 - accuracy: 0.8410 - val_loss: 0.5128 - val_accuracy: 0.8269\n",
      "Epoch 13/30\n",
      "782/782 [==============================] - 291s 372ms/step - loss: 0.4433 - accuracy: 0.8450 - val_loss: 0.5035 - val_accuracy: 0.8325\n",
      "Epoch 14/30\n",
      "782/782 [==============================] - 291s 372ms/step - loss: 0.4178 - accuracy: 0.8550 - val_loss: 0.5210 - val_accuracy: 0.8258\n",
      "Epoch 15/30\n",
      "782/782 [==============================] - 291s 372ms/step - loss: 0.4076 - accuracy: 0.8562 - val_loss: 0.5383 - val_accuracy: 0.8195\n",
      "Epoch 16/30\n",
      "782/782 [==============================] - 292s 373ms/step - loss: 0.3860 - accuracy: 0.8655 - val_loss: 0.4846 - val_accuracy: 0.8402\n",
      "Epoch 17/30\n",
      "782/782 [==============================] - 298s 381ms/step - loss: 0.3715 - accuracy: 0.8723 - val_loss: 0.4539 - val_accuracy: 0.8453\n",
      "Epoch 18/30\n",
      "782/782 [==============================] - 294s 376ms/step - loss: 0.3797 - accuracy: 0.8677 - val_loss: 0.4693 - val_accuracy: 0.8417\n",
      "Epoch 19/30\n",
      "782/782 [==============================] - 318s 407ms/step - loss: 0.3566 - accuracy: 0.8751 - val_loss: 0.4650 - val_accuracy: 0.8474\n",
      "Epoch 20/30\n",
      "782/782 [==============================] - 321s 410ms/step - loss: 0.3399 - accuracy: 0.8800 - val_loss: 0.4547 - val_accuracy: 0.8508\n",
      "Epoch 21/30\n",
      "782/782 [==============================] - 294s 376ms/step - loss: 0.3306 - accuracy: 0.8830 - val_loss: 0.4458 - val_accuracy: 0.8525\n",
      "Epoch 22/30\n",
      "782/782 [==============================] - 313s 400ms/step - loss: 0.3166 - accuracy: 0.8875 - val_loss: 0.4319 - val_accuracy: 0.8552\n",
      "Epoch 23/30\n",
      "782/782 [==============================] - 291s 372ms/step - loss: 0.3156 - accuracy: 0.8886 - val_loss: 0.5376 - val_accuracy: 0.8316\n",
      "Epoch 24/30\n",
      "782/782 [==============================] - 311s 398ms/step - loss: 0.3084 - accuracy: 0.8897 - val_loss: 0.4665 - val_accuracy: 0.8473\n",
      "Epoch 25/30\n",
      "782/782 [==============================] - 442s 565ms/step - loss: 0.2957 - accuracy: 0.8950 - val_loss: 0.4647 - val_accuracy: 0.8479\n",
      "Epoch 26/30\n",
      "782/782 [==============================] - 575s 735ms/step - loss: 0.2809 - accuracy: 0.8994 - val_loss: 0.4774 - val_accuracy: 0.8463\n",
      "Epoch 27/30\n",
      "782/782 [==============================] - 619s 792ms/step - loss: 0.2823 - accuracy: 0.9003 - val_loss: 0.4396 - val_accuracy: 0.8573\n",
      "Epoch 28/30\n",
      "782/782 [==============================] - 375s 480ms/step - loss: 0.2748 - accuracy: 0.9037 - val_loss: 0.4422 - val_accuracy: 0.8614\n",
      "Epoch 29/30\n",
      "782/782 [==============================] - 301s 385ms/step - loss: 0.2702 - accuracy: 0.9047 - val_loss: 0.4571 - val_accuracy: 0.8519\n",
      "Epoch 30/30\n",
      "782/782 [==============================] - 299s 383ms/step - loss: 0.2698 - accuracy: 0.9043 - val_loss: 0.4337 - val_accuracy: 0.8600\n"
     ]
    }
   ],
   "source": [
    "model.compile(optimizer='adam',\n",
    "              loss=tf.keras.losses.SparseCategoricalCrossentropy(from_logits=True),\n",
    "              metrics=['accuracy'])\n",
    "history = model.fit(train_images, train_labels, epochs=30,batch_size=64, \n",
    "                    validation_data=(test_images, test_labels))"
   ]
  },
  {
   "cell_type": "code",
   "execution_count": 8,
   "id": "faced-sigma",
   "metadata": {},
   "outputs": [
    {
     "name": "stdout",
     "output_type": "stream",
     "text": [
      "313/313 [==============================] - 13s 43ms/step - loss: 0.4337 - accuracy: 0.8600\n"
     ]
    }
   ],
   "source": [
    "test_loss, test_acc = model.evaluate(test_images,  test_labels, verbose=1)"
   ]
  },
  {
   "cell_type": "code",
   "execution_count": 9,
   "id": "satisfied-syndrome",
   "metadata": {},
   "outputs": [
    {
     "data": {
      "image/png": "[encoded data removed]",
      "text/plain": [
       "<Figure size 432x288 with 1 Axes>"
      ]
     },
     "metadata": {
      "needs_background": "light"
     },
     "output_type": "display_data"
    },
    {
     "data": {
      "text/plain": [
       "<Figure size 720x720 with 0 Axes>"
      ]
     },
     "metadata": {},
     "output_type": "display_data"
    },
    {
     "data": {
      "image/png": "[encoded data removed]",
      "text/plain": [
       "<Figure size 432x288 with 1 Axes>"
      ]
     },
     "metadata": {
      "needs_background": "light"
     },
     "output_type": "display_data"
    },
    {
     "data": {
      "text/plain": [
       "<Figure size 720x720 with 0 Axes>"
      ]
     },
     "metadata": {},
     "output_type": "display_data"
    }
   ],
   "source": [
    "pyplot.title('Cross Entropy Loss')\n",
    "pyplot.plot(history.history['loss'], color='blue', label='train')\n",
    "pyplot.plot(history.history['val_loss'], color='orange', label='test')\n",
    "pyplot.legend()\n",
    "g = plt.figure()\n",
    "g.set_figwidth(10)\n",
    "g.set_figheight(10)\n",
    "pyplot.show()\n",
    "# plot accuracy\n",
    "pyplot.title('Classification Accuracy')\n",
    "pyplot.plot(history.history['accuracy'], color='blue', label='train')\n",
    "pyplot.plot(history.history['val_accuracy'], color='orange', label='test')\n",
    "pyplot.legend()\n",
    "f = plt.figure()\n",
    "f.set_figwidth(10)\n",
    "f.set_figheight(10)\n",
    "# save plot to file\n",
    "pyplot.show()\n",
    "pyplot.close()"
   ]
  },
  {
   "cell_type": "code",
   "execution_count": null,
   "id": "tamil-lloyd",
   "metadata": {},
   "outputs": [],
   "source": []
  }
 ],
 "metadata": {
  "kernelspec": {
   "display_name": "Python 3",
   "language": "python",
   "name": "python3"
  },
  "language_info": {
   "codemirror_mode": {
    "name": "ipython",
    "version": 3
   },
   "file_extension": ".py",
   "mimetype": "text/x-python",
   "name": "python",
   "nbconvert_exporter": "python",
   "pygments_lexer": "ipython3",
   "version": "3.7.6"
  }
 },
 "nbformat": 4,
 "nbformat_minor": 5
}
