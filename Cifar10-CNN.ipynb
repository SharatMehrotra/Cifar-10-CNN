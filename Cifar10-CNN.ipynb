{
 "cells": [
  {
   "cell_type": "code",
   "execution_count": 1,
   "id": "structural-diving",
   "metadata": {},
   "outputs": [],
   "source": [
    "import torch\n",
    "import torchvision\n",
    "import torch.nn as nn\n",
    "import torchvision.transforms as transform\n",
    "from matplotlib import pyplot\n",
    "import numpy as np\n",
    "import cv2\n",
    "import scipy.io as sci\n",
    "from sklearn.decomposition import PCA\n",
    "import matplotlib.pyplot as plt\n",
    "from keras.models import Sequential\n",
    "from keras.layers import Dense, Conv1D, Flatten, MaxPooling2D, Conv2D, MaxPool1D, Dropout\n",
    "from keras.optimizers import SGD\n",
    "from keras.utils import to_categorical\n",
    "import tensorflow as tf\n",
    "from tensorflow.keras import datasets, layers, models"
   ]
  },
  {
   "cell_type": "code",
   "execution_count": 2,
   "id": "controversial-liverpool",
   "metadata": {},
   "outputs": [],
   "source": [
    "(train_images,train_labels),(test_images,test_labels) = datasets.cifar10.load_data()"
   ]
  },
  {
   "cell_type": "code",
   "execution_count": 3,
   "id": "positive-sudan",
   "metadata": {},
   "outputs": [
    {
     "data": {
      "text/plain": [
       "(10000, 32, 32, 3)"
      ]
     },
     "execution_count": 3,
     "metadata": {},
     "output_type": "execute_result"
    }
   ],
   "source": [
    "test_images.shape"
   ]
  },
  {
   "cell_type": "code",
   "execution_count": 4,
   "id": "complex-luxury",
   "metadata": {},
   "outputs": [],
   "source": [
    "train_images, test_images = train_images / 255.0, test_images / 255.0"
   ]
  },
  {
   "cell_type": "code",
   "execution_count": 5,
   "id": "sunrise-lafayette",
   "metadata": {},
   "outputs": [],
   "source": [
    "model=Sequential()\n",
    "model.add(Conv2D(32, (3, 3), activation='relu', kernel_initializer='he_uniform', padding='same', input_shape=(32, 32, 3)))\n",
    "model.add(Conv2D(32, (3, 3), activation='relu', kernel_initializer='he_uniform', padding='same'))\n",
    "model.add(MaxPooling2D((2, 2)))\n",
    "model.add(Dropout(0.2))\n",
    "model.add(Conv2D(64, (3, 3), activation='relu', kernel_initializer='he_uniform', padding='same'))\n",
    "model.add(Conv2D(64, (3, 3), activation='relu', kernel_initializer='he_uniform', padding='same'))\n",
    "model.add(MaxPooling2D((2, 2)))\n",
    "model.add(Dropout(0.2))\n",
    "model.add(Conv2D(128, (3, 3), activation='relu', kernel_initializer='he_uniform', padding='same'))\n",
    "model.add(Conv2D(128, (3, 3), activation='relu', kernel_initializer='he_uniform', padding='same'))\n",
    "model.add(MaxPooling2D((2, 2)))\n",
    "model.add(Dropout(0.2))\n",
    "model.add(Flatten())\n",
    "model.add(Dense(128, activation='relu', kernel_initializer='he_uniform'))\n",
    "model.add(Dropout(0.2))\n",
    "model.add(Dense(10, activation='softmax'))"
   ]
  },
  {
   "cell_type": "code",
   "execution_count": 6,
   "id": "sapphire-repeat",
   "metadata": {},
   "outputs": [
    {
     "name": "stdout",
     "output_type": "stream",
     "text": [
      "Model: \"sequential\"\n",
      "_________________________________________________________________\n",
      "Layer (type)                 Output Shape              Param #   \n",
      "=================================================================\n",
      "conv2d (Conv2D)              (None, 32, 32, 32)        896       \n",
      "_________________________________________________________________\n",
      "conv2d_1 (Conv2D)            (None, 32, 32, 32)        9248      \n",
      "_________________________________________________________________\n",
      "max_pooling2d (MaxPooling2D) (None, 16, 16, 32)        0         \n",
      "_________________________________________________________________\n",
      "dropout (Dropout)            (None, 16, 16, 32)        0         \n",
      "_________________________________________________________________\n",
      "conv2d_2 (Conv2D)            (None, 16, 16, 64)        18496     \n",
      "_________________________________________________________________\n",
      "conv2d_3 (Conv2D)            (None, 16, 16, 64)        36928     \n",
      "_________________________________________________________________\n",
      "max_pooling2d_1 (MaxPooling2 (None, 8, 8, 64)          0         \n",
      "_________________________________________________________________\n",
      "dropout_1 (Dropout)          (None, 8, 8, 64)          0         \n",
      "_________________________________________________________________\n",
      "conv2d_4 (Conv2D)            (None, 8, 8, 128)         73856     \n",
      "_________________________________________________________________\n",
      "conv2d_5 (Conv2D)            (None, 8, 8, 128)         147584    \n",
      "_________________________________________________________________\n",
      "max_pooling2d_2 (MaxPooling2 (None, 4, 4, 128)         0         \n",
      "_________________________________________________________________\n",
      "dropout_2 (Dropout)          (None, 4, 4, 128)         0         \n",
      "_________________________________________________________________\n",
      "flatten (Flatten)            (None, 2048)              0         \n",
      "_________________________________________________________________\n",
      "dense (Dense)                (None, 128)               262272    \n",
      "_________________________________________________________________\n",
      "dropout_3 (Dropout)          (None, 128)               0         \n",
      "_________________________________________________________________\n",
      "dense_1 (Dense)              (None, 10)                1290      \n",
      "=================================================================\n",
      "Total params: 550,570\n",
      "Trainable params: 550,570\n",
      "Non-trainable params: 0\n",
      "_________________________________________________________________\n"
     ]
    }
   ],
   "source": [
    "model.summary()"
   ]
  },
  {
   "cell_type": "code",
   "execution_count": null,
   "id": "selective-bobby",
   "metadata": {},
   "outputs": [],
   "source": []
  },
  {
   "cell_type": "code",
   "execution_count": 7,
   "id": "overhead-trademark",
   "metadata": {},
   "outputs": [
    {
     "name": "stdout",
     "output_type": "stream",
     "text": [
      "Epoch 1/50\n",
      "782/782 [==============================] - 229s 291ms/step - loss: 1.9265 - accuracy: 0.2887 - val_loss: 1.2192 - val_accuracy: 0.5577\n",
      "Epoch 2/50\n",
      "782/782 [==============================] - 227s 290ms/step - loss: 1.2586 - accuracy: 0.5506 - val_loss: 0.9697 - val_accuracy: 0.6641\n",
      "Epoch 3/50\n",
      "782/782 [==============================] - 229s 293ms/step - loss: 1.0033 - accuracy: 0.6501 - val_loss: 0.8644 - val_accuracy: 0.7000\n",
      "Epoch 4/50\n",
      "782/782 [==============================] - 232s 297ms/step - loss: 0.8525 - accuracy: 0.7005 - val_loss: 0.7619 - val_accuracy: 0.7360\n",
      "Epoch 5/50\n",
      "782/782 [==============================] - 238s 305ms/step - loss: 0.7708 - accuracy: 0.7284 - val_loss: 0.7325 - val_accuracy: 0.7476\n",
      "Epoch 6/50\n",
      "782/782 [==============================] - 242s 309ms/step - loss: 0.7081 - accuracy: 0.7562 - val_loss: 0.6821 - val_accuracy: 0.7636\n",
      "Epoch 7/50\n",
      "782/782 [==============================] - 240s 307ms/step - loss: 0.6440 - accuracy: 0.7771 - val_loss: 0.6489 - val_accuracy: 0.7818\n",
      "Epoch 8/50\n",
      "782/782 [==============================] - 242s 309ms/step - loss: 0.6115 - accuracy: 0.7856 - val_loss: 0.6370 - val_accuracy: 0.7890\n",
      "Epoch 9/50\n",
      "782/782 [==============================] - 242s 309ms/step - loss: 0.5731 - accuracy: 0.8013 - val_loss: 0.6367 - val_accuracy: 0.7847\n",
      "Epoch 10/50\n",
      "782/782 [==============================] - 243s 310ms/step - loss: 0.5535 - accuracy: 0.8067 - val_loss: 0.6086 - val_accuracy: 0.7999\n",
      "Epoch 11/50\n",
      "782/782 [==============================] - 242s 310ms/step - loss: 0.5169 - accuracy: 0.8218 - val_loss: 0.6153 - val_accuracy: 0.7955\n",
      "Epoch 12/50\n",
      "782/782 [==============================] - 241s 309ms/step - loss: 0.4947 - accuracy: 0.8268 - val_loss: 0.6332 - val_accuracy: 0.7906\n",
      "Epoch 13/50\n",
      "782/782 [==============================] - 238s 304ms/step - loss: 0.4823 - accuracy: 0.8310 - val_loss: 0.6056 - val_accuracy: 0.8075\n",
      "Epoch 14/50\n",
      "782/782 [==============================] - 237s 304ms/step - loss: 0.4620 - accuracy: 0.8385 - val_loss: 0.6241 - val_accuracy: 0.7964\n",
      "Epoch 15/50\n",
      "782/782 [==============================] - 238s 304ms/step - loss: 0.4448 - accuracy: 0.8418 - val_loss: 0.5980 - val_accuracy: 0.8043\n",
      "Epoch 16/50\n",
      "782/782 [==============================] - 237s 304ms/step - loss: 0.4255 - accuracy: 0.8513 - val_loss: 0.6173 - val_accuracy: 0.7962\n",
      "Epoch 17/50\n",
      "782/782 [==============================] - 237s 303ms/step - loss: 0.4142 - accuracy: 0.8546 - val_loss: 0.6144 - val_accuracy: 0.8034\n",
      "Epoch 18/50\n",
      "782/782 [==============================] - 237s 303ms/step - loss: 0.4057 - accuracy: 0.8548 - val_loss: 0.6036 - val_accuracy: 0.8062\n",
      "Epoch 19/50\n",
      "782/782 [==============================] - 237s 303ms/step - loss: 0.3944 - accuracy: 0.8604 - val_loss: 0.6299 - val_accuracy: 0.8017\n",
      "Epoch 20/50\n",
      "782/782 [==============================] - 237s 304ms/step - loss: 0.3887 - accuracy: 0.8649 - val_loss: 0.6063 - val_accuracy: 0.8098\n",
      "Epoch 21/50\n",
      "782/782 [==============================] - 237s 303ms/step - loss: 0.3811 - accuracy: 0.8641 - val_loss: 0.6461 - val_accuracy: 0.8051\n",
      "Epoch 22/50\n",
      "782/782 [==============================] - 237s 303ms/step - loss: 0.3701 - accuracy: 0.8704 - val_loss: 0.6057 - val_accuracy: 0.8099\n",
      "Epoch 23/50\n",
      "782/782 [==============================] - 237s 303ms/step - loss: 0.3576 - accuracy: 0.8752 - val_loss: 0.6293 - val_accuracy: 0.8169\n",
      "Epoch 24/50\n",
      "782/782 [==============================] - 241s 308ms/step - loss: 0.3639 - accuracy: 0.8692 - val_loss: 0.6538 - val_accuracy: 0.8111\n",
      "Epoch 25/50\n",
      "782/782 [==============================] - 241s 308ms/step - loss: 0.3551 - accuracy: 0.8724 - val_loss: 0.6138 - val_accuracy: 0.8176\n",
      "Epoch 26/50\n",
      "782/782 [==============================] - 245s 313ms/step - loss: 0.3348 - accuracy: 0.8819 - val_loss: 0.6278 - val_accuracy: 0.8082\n",
      "Epoch 27/50\n",
      "782/782 [==============================] - 240s 307ms/step - loss: 0.3443 - accuracy: 0.8763 - val_loss: 0.6306 - val_accuracy: 0.8124\n",
      "Epoch 28/50\n",
      "782/782 [==============================] - 237s 303ms/step - loss: 0.3370 - accuracy: 0.8811 - val_loss: 0.6417 - val_accuracy: 0.8169\n",
      "Epoch 29/50\n",
      "782/782 [==============================] - 237s 303ms/step - loss: 0.3164 - accuracy: 0.8876 - val_loss: 0.6534 - val_accuracy: 0.8094\n",
      "Epoch 30/50\n",
      "782/782 [==============================] - 237s 303ms/step - loss: 0.3242 - accuracy: 0.8855 - val_loss: 0.6040 - val_accuracy: 0.8193\n",
      "Epoch 31/50\n",
      "782/782 [==============================] - 237s 303ms/step - loss: 0.3024 - accuracy: 0.8921 - val_loss: 0.6769 - val_accuracy: 0.8102\n",
      "Epoch 32/50\n",
      "782/782 [==============================] - 240s 307ms/step - loss: 0.3054 - accuracy: 0.8922 - val_loss: 0.5997 - val_accuracy: 0.8233\n",
      "Epoch 33/50\n",
      "782/782 [==============================] - 241s 309ms/step - loss: 0.2968 - accuracy: 0.8956 - val_loss: 0.6313 - val_accuracy: 0.8164\n",
      "Epoch 34/50\n",
      "782/782 [==============================] - 238s 304ms/step - loss: 0.3034 - accuracy: 0.8916 - val_loss: 0.6275 - val_accuracy: 0.8153\n",
      "Epoch 35/50\n",
      "782/782 [==============================] - 249s 319ms/step - loss: 0.2958 - accuracy: 0.8990 - val_loss: 0.6352 - val_accuracy: 0.8152\n",
      "Epoch 36/50\n",
      "782/782 [==============================] - 244s 312ms/step - loss: 0.2867 - accuracy: 0.8972 - val_loss: 0.6455 - val_accuracy: 0.8177\n",
      "Epoch 37/50\n",
      "782/782 [==============================] - 243s 310ms/step - loss: 0.2836 - accuracy: 0.9019 - val_loss: 0.6497 - val_accuracy: 0.8185\n",
      "Epoch 38/50\n",
      "782/782 [==============================] - 242s 309ms/step - loss: 0.2851 - accuracy: 0.8982 - val_loss: 0.6271 - val_accuracy: 0.8226\n",
      "Epoch 39/50\n",
      "782/782 [==============================] - 242s 310ms/step - loss: 0.2765 - accuracy: 0.9031 - val_loss: 0.6647 - val_accuracy: 0.8230\n",
      "Epoch 40/50\n",
      "782/782 [==============================] - 245s 314ms/step - loss: 0.2809 - accuracy: 0.9021 - val_loss: 0.6763 - val_accuracy: 0.8189\n",
      "Epoch 41/50\n",
      "782/782 [==============================] - 244s 312ms/step - loss: 0.2855 - accuracy: 0.8993 - val_loss: 0.6925 - val_accuracy: 0.8114\n",
      "Epoch 42/50\n",
      "782/782 [==============================] - 244s 313ms/step - loss: 0.2686 - accuracy: 0.9068 - val_loss: 0.6608 - val_accuracy: 0.8184\n",
      "Epoch 43/50\n",
      "782/782 [==============================] - 247s 316ms/step - loss: 0.2746 - accuracy: 0.9050 - val_loss: 0.6670 - val_accuracy: 0.8122\n",
      "Epoch 44/50\n",
      "782/782 [==============================] - 247s 316ms/step - loss: 0.2676 - accuracy: 0.9075 - val_loss: 0.6606 - val_accuracy: 0.8172\n",
      "Epoch 45/50\n",
      "782/782 [==============================] - 250s 320ms/step - loss: 0.2660 - accuracy: 0.9084 - val_loss: 0.6628 - val_accuracy: 0.8145\n",
      "Epoch 46/50\n",
      "782/782 [==============================] - 248s 318ms/step - loss: 0.2604 - accuracy: 0.9096 - val_loss: 0.6791 - val_accuracy: 0.8187\n",
      "Epoch 47/50\n",
      "782/782 [==============================] - 248s 317ms/step - loss: 0.2675 - accuracy: 0.9048 - val_loss: 0.7064 - val_accuracy: 0.8156\n",
      "Epoch 48/50\n",
      "782/782 [==============================] - 247s 316ms/step - loss: 0.2639 - accuracy: 0.9111 - val_loss: 0.6863 - val_accuracy: 0.8160\n",
      "Epoch 49/50\n",
      "782/782 [==============================] - 248s 318ms/step - loss: 0.2597 - accuracy: 0.9100 - val_loss: 0.7020 - val_accuracy: 0.8105\n",
      "Epoch 50/50\n",
      "782/782 [==============================] - 251s 321ms/step - loss: 0.2550 - accuracy: 0.9120 - val_loss: 0.6764 - val_accuracy: 0.8190\n"
     ]
    }
   ],
   "source": [
    "model.compile(optimizer='adam',\n",
    "              loss=tf.keras.losses.SparseCategoricalCrossentropy(from_logits=True),\n",
    "              metrics=['accuracy'])\n",
    "history = model.fit(train_images, train_labels, epochs=50,batch_size=64, \n",
    "                    validation_data=(test_images, test_labels))"
   ]
  },
  {
   "cell_type": "code",
   "execution_count": 8,
   "id": "faced-sigma",
   "metadata": {},
   "outputs": [
    {
     "name": "stdout",
     "output_type": "stream",
     "text": [
      "313/313 [==============================] - 12s 37ms/step - loss: 0.6764 - accuracy: 0.8190\n"
     ]
    }
   ],
   "source": [
    "test_loss, test_acc = model.evaluate(test_images,  test_labels, verbose=1)"
   ]
  },
  {
   "cell_type": "code",
   "execution_count": 22,
   "id": "satisfied-syndrome",
   "metadata": {},
   "outputs": [
    {
     "data": {
      "image/png": "[encoded data removed]",
      "text/plain": [
       "<Figure size 432x288 with 1 Axes>"
      ]
     },
     "metadata": {
      "needs_background": "light"
     },
     "output_type": "display_data"
    },
    {
     "data": {
      "text/plain": [
       "<Figure size 720x720 with 0 Axes>"
      ]
     },
     "metadata": {},
     "output_type": "display_data"
    },
    {
     "data": {
      "image/png": "[encoded data removed]",
      "text/plain": [
       "<Figure size 432x288 with 1 Axes>"
      ]
     },
     "metadata": {
      "needs_background": "light"
     },
     "output_type": "display_data"
    },
    {
     "data": {
      "text/plain": [
       "<Figure size 720x720 with 0 Axes>"
      ]
     },
     "metadata": {},
     "output_type": "display_data"
    }
   ],
   "source": [
    "pyplot.title('Cross Entropy Loss')\n",
    "pyplot.plot(history.history['loss'], color='blue', label='train')\n",
    "pyplot.plot(history.history['val_loss'], color='orange', label='test')\n",
    "pyplot.legend()\n",
    "g = plt.figure()\n",
    "g.set_figwidth(10)\n",
    "g.set_figheight(10)\n",
    "pyplot.show()\n",
    "# plot accuracy\n",
    "pyplot.title('Classification Accuracy')\n",
    "pyplot.plot(history.history['accuracy'], color='blue', label='train')\n",
    "pyplot.plot(history.history['val_accuracy'], color='orange', label='test')\n",
    "pyplot.legend()\n",
    "f = plt.figure()\n",
    "f.set_figwidth(10)\n",
    "f.set_figheight(10)\n",
    "# save plot to file\n",
    "pyplot.show()\n",
    "pyplot.close()"
   ]
  },
  {
   "cell_type": "code",
   "execution_count": null,
   "id": "tamil-lloyd",
   "metadata": {},
   "outputs": [],
   "source": []
  }
 ],
 "metadata": {
  "kernelspec": {
   "display_name": "Python 3",
   "language": "python",
   "name": "python3"
  },
  "language_info": {
   "codemirror_mode": {
    "name": "ipython",
    "version": 3
   },
   "file_extension": ".py",
   "mimetype": "text/x-python",
   "name": "python",
   "nbconvert_exporter": "python",
   "pygments_lexer": "ipython3",
   "version": "3.7.6"
  }
 },
 "nbformat": 4,
 "nbformat_minor": 5
}
